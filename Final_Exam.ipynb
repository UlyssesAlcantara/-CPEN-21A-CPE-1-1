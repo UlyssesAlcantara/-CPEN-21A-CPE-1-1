{
  "nbformat": 4,
  "nbformat_minor": 0,
  "metadata": {
    "colab": {
      "name": "Final Exam.ipynb",
      "provenance": [],
      "authorship_tag": "ABX9TyOVdpKrblK6G5xVLBJPEGVq",
      "include_colab_link": true
    },
    "kernelspec": {
      "name": "python3",
      "display_name": "Python 3"
    },
    "language_info": {
      "name": "python"
    }
  },
  "cells": [
    {
      "cell_type": "markdown",
      "metadata": {
        "id": "view-in-github",
        "colab_type": "text"
      },
      "source": [
        "<a href=\"https://colab.research.google.com/github/UlyssesAlcantara/-CPEN-21A-CPE-1-1/blob/main/Final_Exam.ipynb\" target=\"_parent\"><img src=\"https://colab.research.google.com/assets/colab-badge.svg\" alt=\"Open In Colab\"/></a>"
      ]
    },
    {
      "cell_type": "markdown",
      "source": [
        "##1. Create a Python program that will produce an output of sum of 10 numbers less than 5 using FOR LOOP statement."
      ],
      "metadata": {
        "id": "scwueqycV2Qf"
      }
    },
    {
      "cell_type": "code",
      "source": [
        "sum = 0 \n",
        "num = [-5, -4, -3, -2, -1, 0, 1, 2, 3, 4,]\n",
        "for x in (num):\n",
        "    sum = sum + x\n",
        "print(\"The sum of 10 numbers less than 5 is\", sum)"
      ],
      "metadata": {
        "id": "zw9GHyw-V3jC",
        "colab": {
          "base_uri": "https://localhost:8080/"
        },
        "outputId": "171cfc21-bf54-4856-a28f-f967b089a82b"
      },
      "execution_count": 39,
      "outputs": [
        {
          "output_type": "stream",
          "name": "stdout",
          "text": [
            "The sum of 10 numbers less than 5 is -5\n"
          ]
        }
      ]
    },
    {
      "cell_type": "markdown",
      "source": [
        "## 2.Create a Python program that will produce accept five numbers and determine the sum of first and last number among the five numbers entered using WHILE LOOP\n"
      ],
      "metadata": {
        "id": "dX55Y2gdV3w5"
      }
    },
    {
      "cell_type": "code",
      "source": [
        "number = int(input(\"1st number: \"))\n",
        "while (number!=0):\n",
        "  a=int(input(\"2nd number: \"))\n",
        "  b=int(input(\"3rd number: \"))\n",
        "  c=int(input(\"4th number: \"))\n",
        "  d=int(input(\"5th number: \"))\n",
        "  e=0\n",
        "  f=d\n",
        "  while(x >=10):\n",
        "    x=x // 10\n",
        "  e= number + f\n",
        "  print(e)\n",
        "  number -=1  \n",
        "\n",
        "\n"
      ],
      "metadata": {
        "id": "jDmgxxknV35n",
        "colab": {
          "base_uri": "https://localhost:8080/"
        },
        "outputId": "bdd23b0e-36c9-4e2b-c2a5-132a77361e89"
      },
      "execution_count": 44,
      "outputs": [
        {
          "output_type": "stream",
          "name": "stdout",
          "text": [
            "1st number: 1\n",
            "2nd number: 2\n",
            "3rd number: 3\n",
            "4th number: 4\n",
            "5th number: 5\n",
            "6\n"
          ]
        }
      ]
    },
    {
      "cell_type": "markdown",
      "source": [
        "### 3. Create a Python program to calculate student grades. It accepts a numerical grade as input and it will display the character grade as output based on the given scale: (Use Nested-IF-Else statement)"
      ],
      "metadata": {
        "id": "8337sloBOGkw"
      }
    },
    {
      "cell_type": "code",
      "source": [
        "grade = int(input(\"Numerical Grade: \"))\n",
        "if grade >=90:\n",
        "  print(\"Character Grade: A\")  \n",
        "else:\n",
        "  if grade <=90 and grade >=80:\n",
        "    print(\"Character Grade: B\")\n",
        "  else:\n",
        "    if grade <=80 and grade >=70:\n",
        "      print(\"Character Grade: C\")\n",
        "    else:\n",
        "      if grade <=70 and grade <=60:\n",
        "        print(\"Character Grade: D\")\n",
        "      else:\n",
        "        print(\"Character Grade: F\")  "
      ],
      "metadata": {
        "colab": {
          "base_uri": "https://localhost:8080/"
        },
        "id": "DUlEmR6ZV4Vu",
        "outputId": "9c22f535-530d-4b11-e9c8-0bbdb1b402ac"
      },
      "execution_count": 2,
      "outputs": [
        {
          "output_type": "stream",
          "name": "stdout",
          "text": [
            "Numerical Grade: 90\n",
            "Character Grade: A\n"
          ]
        }
      ]
    }
  ]
}