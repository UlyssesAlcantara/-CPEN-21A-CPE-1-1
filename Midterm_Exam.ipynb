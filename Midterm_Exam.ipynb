{
  "nbformat": 4,
  "nbformat_minor": 0,
  "metadata": {
    "colab": {
      "name": "Midterm Exam",
      "provenance": [],
      "authorship_tag": "ABX9TyMasI6cu5xZ1rBqf2nYpUDz",
      "include_colab_link": true
    },
    "kernelspec": {
      "name": "python3",
      "display_name": "Python 3"
    },
    "language_info": {
      "name": "python"
    }
  },
  "cells": [
    {
      "cell_type": "markdown",
      "metadata": {
        "id": "view-in-github",
        "colab_type": "text"
      },
      "source": [
        "<a href=\"https://colab.research.google.com/github/UlyssesAlcantara/-CPEN-21A-CPE-1-1/blob/main/Midterm_Exam.ipynb\" target=\"_parent\"><img src=\"https://colab.research.google.com/assets/colab-badge.svg\" alt=\"Open In Colab\"/></a>"
      ]
    },
    {
      "cell_type": "markdown",
      "metadata": {
        "id": "48_R68gAiJA8"
      },
      "source": [
        "##Midterm Exam\"\n"
      ]
    },
    {
      "cell_type": "code",
      "metadata": {
        "colab": {
          "base_uri": "https://localhost:8080/"
        },
        "id": "-flIMe9aiNRD",
        "outputId": "473ea426-d340-41cf-b87d-85621de63874"
      },
      "source": [
        "a= \"Ulysses Alcantara\"\n",
        "b= \"202102226\"\n",
        "c= \"18yearsold\"\n",
        "d= \"March 16, 2003\"\n",
        "e= \"343 Sabang Dasmarinas City of Cavite\"\n",
        "f= \"BSCpE\"\n",
        "g= \"95\"\n",
        "print(a)\n",
        "print(b)\n",
        "print(c)\n",
        "print(d)\n",
        "print(e)\n",
        "print(f)\n",
        "print(g)"
      ],
      "execution_count": 65,
      "outputs": [
        {
          "output_type": "stream",
          "name": "stdout",
          "text": [
            "Ulysses Alcantara\n",
            "202102226\n",
            "18yearsold\n",
            "March 16, 2003\n",
            "343 Sabang Dasmarinas City of Cavite\n",
            "BSCpE\n",
            "95\n"
          ]
        }
      ]
    },
    {
      "cell_type": "code",
      "metadata": {
        "id": "z1xagFHcuYW1"
      },
      "source": [
        ""
      ],
      "execution_count": null,
      "outputs": []
    },
    {
      "cell_type": "code",
      "metadata": {
        "colab": {
          "base_uri": "https://localhost:8080/"
        },
        "id": "SIuxIukxktJx",
        "outputId": "24be0861-6d1a-4d95-ff23-9cdcef4cb45c"
      },
      "source": [
        "n=4\n",
        "answ= \"Y\"\n",
        "print ((2<n) and (n<6))\n",
        "print ((2<n) or (n==6)) \n",
        "print (not(2<n) or (n==6))\n",
        "print (not(n<6))\n",
        "print ((answ==\"Y\") or (answ==\"y\"))\n",
        "print ((answ==\"Y\") and (answ==\"y\"))\n",
        "print (not(answ==\"y\"))\n",
        "print ((2<n) and (n==5+1) or (answ==\"No\"))\n",
        "print (n==2) and ((n==7) or (answer==\"Y\"))\n",
        "print (n==2) and ((n==7) or (answ==\"Y\"))\n",
        "\n",
        "    \n",
        "\n",
        "\n",
        "\n",
        "\n"
      ],
      "execution_count": 64,
      "outputs": [
        {
          "output_type": "stream",
          "name": "stdout",
          "text": [
            "True\n",
            "True\n",
            "False\n",
            "False\n",
            "True\n",
            "False\n",
            "True\n",
            "False\n",
            "False\n",
            "False\n"
          ]
        }
      ]
    },
    {
      "cell_type": "code",
      "metadata": {
        "id": "XLpNOfA4nHpI"
      },
      "source": [
        ""
      ],
      "execution_count": null,
      "outputs": []
    },
    {
      "cell_type": "code",
      "metadata": {
        "id": "lPXbpg1dnHwY"
      },
      "source": [
        ""
      ],
      "execution_count": null,
      "outputs": []
    },
    {
      "cell_type": "code",
      "metadata": {
        "colab": {
          "base_uri": "https://localhost:8080/"
        },
        "id": "oSMIIoMunIJ4",
        "outputId": "a7e63d6b-9397-4e45-f89c-db50851dabc6"
      },
      "source": [
        "x=2\n",
        "y=-3\n",
        "w=7\n",
        "z=-10\n",
        "print(x/y)\n",
        "print(w/y/x)\n",
        "print(z/y%x)\n",
        "print(x%-y*w)\n",
        "print(x%y)\n",
        "print(z%w-y/x*5+5)\n",
        "print(9-x%(2+y))\n",
        "print(z//w)\n",
        "print((2+y)**2)\n",
        "print(w/x*2)"
      ],
      "execution_count": 26,
      "outputs": [
        {
          "output_type": "stream",
          "name": "stdout",
          "text": [
            "-0.6666666666666666\n",
            "-1.1666666666666667\n",
            "1.3333333333333335\n",
            "14\n",
            "-1\n",
            "16.5\n",
            "9\n",
            "-2\n",
            "1\n",
            "7.0\n"
          ]
        }
      ]
    }
  ]
}